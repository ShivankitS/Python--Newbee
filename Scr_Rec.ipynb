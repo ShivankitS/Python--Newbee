{
 "cells": [
  {
   "cell_type": "code",
   "execution_count": 1,
   "metadata": {},
   "outputs": [],
   "source": [
    "import pyautogui\n",
    "import cv2\n",
    "import numpy as np"
   ]
  },
  {
   "cell_type": "code",
   "execution_count": 2,
   "metadata": {},
   "outputs": [],
   "source": [
    "resolution = (1920, 1080)\n",
    "codec = cv2.VideoWriter_fourcc(*\"XVID\")\n",
    "filename = \"Recording.avi\"\n",
    "fps = 60.0\n",
    "out = cv2.VideoWriter(filename, codec, fps, resolution)\n"
   ]
  },
  {
   "cell_type": "code",
   "execution_count": 8,
   "metadata": {},
   "outputs": [],
   "source": [
    "cv2.namedWindow(\"Live\", cv2.WINDOW_NORMAL)\n",
    "cv2.resizeWindow(\"Live\", 480, 270)\n",
    "while True:\n",
    "    img = pyautogui.screenshot()\n",
    "    frame = np.array(img)\n",
    "    frame = cv2.cvtColor(frame, cv2.COLOR_BGR2RGB)\n",
    "    out.write(frame)\n",
    "    cv2.imshow(\"Live\", frame)\n",
    "    if cv2.waitKey(1) == ord(' '):\n",
    "        break\n",
    "out.release()\n",
    "cv2.destroyAllWindows()"
   ]
  },
  {
   "cell_type": "code",
   "execution_count": null,
   "metadata": {},
   "outputs": [],
   "source": []
  }
 ],
 "metadata": {
  "kernelspec": {
   "display_name": "Python 3",
   "language": "python",
   "name": "python3"
  },
  "language_info": {
   "codemirror_mode": {
    "name": "ipython",
    "version": 3
   },
   "file_extension": ".py",
   "mimetype": "text/x-python",
   "name": "python",
   "nbconvert_exporter": "python",
   "pygments_lexer": "ipython3",
   "version": "3.7.3"
  }
 },
 "nbformat": 4,
 "nbformat_minor": 2
}
