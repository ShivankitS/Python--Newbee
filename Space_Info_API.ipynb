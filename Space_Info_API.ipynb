{
 "cells": [
  {
   "cell_type": "code",
   "execution_count": 1,
   "metadata": {},
   "outputs": [],
   "source": [
    "import requests"
   ]
  },
  {
   "cell_type": "code",
   "execution_count": 8,
   "metadata": {},
   "outputs": [
    {
     "name": "stdout",
     "output_type": "stream",
     "text": [
      "200\n",
      "<bound method Response.json of <Response [200]>>\n"
     ]
    }
   ],
   "source": [
    "response = requests.get(\"http://api.open-notify.org/astros.json\")\n",
    "#(response.status_code)\n",
    "#(response.json())"
   ]
  },
  {
   "cell_type": "code",
   "execution_count": 14,
   "metadata": {},
   "outputs": [
    {
     "name": "stdout",
     "output_type": "stream",
     "text": [
      "{\n",
      "    \"message\": \"success\",\n",
      "    \"number\": 7,\n",
      "    \"people\": [\n",
      "        {\n",
      "            \"craft\": \"ISS\",\n",
      "            \"name\": \"Sergey Ryzhikov\"\n",
      "        },\n",
      "        {\n",
      "            \"craft\": \"ISS\",\n",
      "            \"name\": \"Kate Rubins\"\n",
      "        },\n",
      "        {\n",
      "            \"craft\": \"ISS\",\n",
      "            \"name\": \"Sergey Kud-Sverchkov\"\n",
      "        },\n",
      "        {\n",
      "            \"craft\": \"ISS\",\n",
      "            \"name\": \"Mike Hopkins\"\n",
      "        },\n",
      "        {\n",
      "            \"craft\": \"ISS\",\n",
      "            \"name\": \"Victor Glover\"\n",
      "        },\n",
      "        {\n",
      "            \"craft\": \"ISS\",\n",
      "            \"name\": \"Shannon Walker\"\n",
      "        },\n",
      "        {\n",
      "            \"craft\": \"ISS\",\n",
      "            \"name\": \"Soichi Noguchi\"\n",
      "        }\n",
      "    ]\n",
      "}\n"
     ]
    }
   ],
   "source": [
    "#DUMPS() & LOADS(): JSON\n",
    "\n",
    "import json\n",
    "\n",
    "def jprint(self):\n",
    "    text = json.dumps(self, sort_keys = True, indent = 4)\n",
    "    print(text)\n",
    "    \n",
    "jprint(response.json())"
   ]
  },
  {
   "cell_type": "code",
   "execution_count": 20,
   "metadata": {},
   "outputs": [
    {
     "name": "stdout",
     "output_type": "stream",
     "text": [
      "200\n",
      "{'message': 'success', 'request': {'altitude': 100, 'datetime': 1615029907, 'latitude': 27.2046, 'longitude': 77.4977, 'passes': 5}, 'response': [{'duration': 501, 'risetime': 1615049108}, {'duration': 643, 'risetime': 1615054824}, {'duration': 391, 'risetime': 1615060797}, {'duration': 454, 'risetime': 1615078565}, {'duration': 651, 'risetime': 1615084304}]}\n"
     ]
    }
   ],
   "source": [
    "#Requesting url data along with meta-data/parameters\n",
    "parameters = {\n",
    "              \"lat\":27.2046, \n",
    "              \"lon\":77.4977\n",
    "             }\n",
    "response = requests.get(\"http://api.open-notify.org/iss-pass.json\", parameters)\n",
    "print(response.status_code)\n",
    "print(response.json())"
   ]
  },
  {
   "cell_type": "code",
   "execution_count": 22,
   "metadata": {
    "collapsed": true
   },
   "outputs": [
    {
     "name": "stdout",
     "output_type": "stream",
     "text": [
      "{\n",
      "    \"message\": \"success\",\n",
      "    \"request\": {\n",
      "        \"altitude\": 100,\n",
      "        \"datetime\": 1615029907,\n",
      "        \"latitude\": 27.2046,\n",
      "        \"longitude\": 77.4977,\n",
      "        \"passes\": 5\n",
      "    },\n",
      "    \"response\": [\n",
      "        {\n",
      "            \"duration\": 501,\n",
      "            \"risetime\": 1615049108\n",
      "        },\n",
      "        {\n",
      "            \"duration\": 643,\n",
      "            \"risetime\": 1615054824\n",
      "        },\n",
      "        {\n",
      "            \"duration\": 391,\n",
      "            \"risetime\": 1615060797\n",
      "        },\n",
      "        {\n",
      "            \"duration\": 454,\n",
      "            \"risetime\": 1615078565\n",
      "        },\n",
      "        {\n",
      "            \"duration\": 651,\n",
      "            \"risetime\": 1615084304\n",
      "        }\n",
      "    ]\n",
      "}\n"
     ]
    }
   ],
   "source": [
    "jprint(response.json())"
   ]
  },
  {
   "cell_type": "code",
   "execution_count": 30,
   "metadata": {},
   "outputs": [
    {
     "name": "stdout",
     "output_type": "stream",
     "text": [
      "[\n",
      "    {\n",
      "        \"duration\": 501,\n",
      "        \"risetime\": 1615049108\n",
      "    },\n",
      "    {\n",
      "        \"duration\": 643,\n",
      "        \"risetime\": 1615054824\n",
      "    },\n",
      "    {\n",
      "        \"duration\": 391,\n",
      "        \"risetime\": 1615060797\n",
      "    },\n",
      "    {\n",
      "        \"duration\": 454,\n",
      "        \"risetime\": 1615078565\n",
      "    },\n",
      "    {\n",
      "        \"duration\": 651,\n",
      "        \"risetime\": 1615084304\n",
      "    }\n",
      "]\n"
     ]
    }
   ],
   "source": [
    "#For better understanding we shall increase the readability for response data.\n",
    "pass_time = response.json()['response']\n",
    "jprint(pass_time)"
   ]
  },
  {
   "cell_type": "code",
   "execution_count": 42,
   "metadata": {},
   "outputs": [
    {
     "name": "stdout",
     "output_type": "stream",
     "text": [
      "[1615049108, 1615054824, 1615060797, 1615078565, 1615084304]\n"
     ]
    }
   ],
   "source": [
    "risetimes = []\n",
    "\n",
    "for i in pass_time:\n",
    "    time = i['risetime']\n",
    "    risetimes.append(time)\n",
    "print(risetimes)    "
   ]
  },
  {
   "cell_type": "code",
   "execution_count": 57,
   "metadata": {},
   "outputs": [
    {
     "name": "stdout",
     "output_type": "stream",
     "text": [
      "2021-03-06 22:15:08\n",
      "2021-03-06 23:50:24\n",
      "2021-03-07 01:29:57\n",
      "2021-03-07 06:26:05\n",
      "2021-03-07 08:01:44\n"
     ]
    }
   ],
   "source": [
    "from datetime import datetime\n",
    "\n",
    "times = []\n",
    "\n",
    "for i in risetimes:\n",
    "    time = datetime.fromtimestamp(i)\n",
    "    times.append(time)\n",
    "    print(time)"
   ]
  },
  {
   "cell_type": "code",
   "execution_count": null,
   "metadata": {},
   "outputs": [],
   "source": []
  }
 ],
 "metadata": {
  "kernelspec": {
   "display_name": "Python 3",
   "language": "python",
   "name": "python3"
  },
  "language_info": {
   "codemirror_mode": {
    "name": "ipython",
    "version": 3
   },
   "file_extension": ".py",
   "mimetype": "text/x-python",
   "name": "python",
   "nbconvert_exporter": "python",
   "pygments_lexer": "ipython3",
   "version": "3.7.3"
  }
 },
 "nbformat": 4,
 "nbformat_minor": 2
}
